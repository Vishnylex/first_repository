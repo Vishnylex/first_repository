{
  "nbformat": 4,
  "nbformat_minor": 0,
  "metadata": {
    "colab": {
      "provenance": [],
      "authorship_tag": "ABX9TyMLnBJk9WH8U+oyJfB4wPz1",
      "include_colab_link": true
    },
    "kernelspec": {
      "name": "python3",
      "display_name": "Python 3"
    },
    "language_info": {
      "name": "python"
    }
  },
  "cells": [
    {
      "cell_type": "markdown",
      "metadata": {
        "id": "view-in-github",
        "colab_type": "text"
      },
      "source": [
        "<a href=\"https://colab.research.google.com/github/Vishnylex/first_repository/blob/main/Untitled4.ipynb\" target=\"_parent\"><img src=\"https://colab.research.google.com/assets/colab-badge.svg\" alt=\"Open In Colab\"/></a>"
      ]
    },
    {
      "cell_type": "code",
      "execution_count": null,
      "metadata": {
        "id": "Vse6RgH1d7ch"
      },
      "outputs": [],
      "source": [
        "import random\n",
        "import time\n",
        "\n",
        "def game():\n",
        "    pause_duration = 3  # Начальная длительность штрафной паузы\n",
        "\n",
        "    while True:\n",
        "        num1 = random.randint(1, 100)\n",
        "        num2 = random.randint(1, 100)\n",
        "\n",
        "        print(f'Новый пример: {num1} + {num2}?')\n",
        "\n",
        "        user_answer = int(input())\n",
        "\n",
        "        if user_answer == num1 + num2:\n",
        "            print('Поздравляю! Ваш ответ правильный.')\n",
        "            break\n",
        "        else:\n",
        "            print(f'Неверно! Штрафная пауза: {pause_duration} секунд.')\n",
        "            time.sleep(pause_duration)\n",
        "            pause_duration += 1"
      ]
    }
  ]
}